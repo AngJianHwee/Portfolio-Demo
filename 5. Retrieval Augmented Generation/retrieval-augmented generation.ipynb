{
 "cells": [
  {
   "cell_type": "markdown",
   "metadata": {},
   "source": [
    "# Document-enhanced QA system using retrieval-augmented generation (RAG) \n",
    "\n",
    "\n",
    "Keywords: Embeddings, VectorDB, OpenAI GPT API"
   ]
  },
  {
   "cell_type": "markdown",
   "metadata": {},
   "source": [
    "### Step 1: Use langchain to chop the input PDF into smaller pieces"
   ]
  },
  {
   "cell_type": "code",
   "execution_count": 20,
   "metadata": {},
   "outputs": [
    {
     "name": "stdout",
     "output_type": "stream",
     "text": [
      "4 PDFs found in the folder. File list:\n",
      "\t - Benedikt Schack - Wikipedia.pdf\n",
      "\t - Franz Xaver Gerl - Wikipedia.pdf\n",
      "\t - Joseph Haydn - Wikipedia.pdf\n",
      "\t - Wolfgang Amadeus Mozart - Wikipedia.pdf\n",
      "\n",
      "No. of splits: 4 -> Benedikt Schack - Wikipedia.pdf\n",
      "No. of splits: 2 -> Franz Xaver Gerl - Wikipedia.pdf\n",
      "No. of splits: 20 -> Joseph Haydn - Wikipedia.pdf\n",
      "No. of splits: 22 -> Wolfgang Amadeus Mozart - Wikipedia.pdf\n",
      "\n",
      "\n",
      "Chopped Example:\n"
     ]
    },
    {
     "data": {
      "text/plain": [
       "{'source': 'C:\\\\Users\\\\megah\\\\Dropbox\\\\Resume\\\\Interview-Prep\\\\Starluck\\\\PDFs2\\\\Benedikt Schack - Wikipedia.pdf',\n",
       " 'file_path': 'C:\\\\Users\\\\megah\\\\Dropbox\\\\Resume\\\\Interview-Prep\\\\Starluck\\\\PDFs2\\\\Benedikt Schack - Wikipedia.pdf',\n",
       " 'page': 0,\n",
       " 'total_pages': 4,\n",
       " 'format': 'PDF 1.4',\n",
       " 'title': 'Benedikt Schack - Wikipedia',\n",
       " 'author': '',\n",
       " 'subject': '',\n",
       " 'keywords': '',\n",
       " 'creator': 'Mozilla/5.0 (Windows NT 10.0; Win64; x64) AppleWebKit/537.36 (KHTML, like Gecko) Chrome/126.0.0.0 Safari/537.36',\n",
       " 'producer': 'Skia/PDF m126',\n",
       " 'creationDate': \"D:20240627103252+00'00'\",\n",
       " 'modDate': \"D:20240627103252+00'00'\",\n",
       " 'trapped': '',\n",
       " 'page_content': 'Benedikt Schack in performance with the\\nSchikaneder troupe: the number \"O Anton du bist\\nmein\" from the Singspiel Die Zween Anton.\\nSchack is at center, his hands held by soprano\\nJosepha Hofer and baritone/impresario Emanuel\\nSchikaneder. Click on image for the identities of\\nthe other players and the original source.\\nBenedikt Schack\\nBenedikt Emanuel Schack[1] (Czech: Benedikt\\nŽák) (7 February 1758 – 10 December 1826) was a\\ncomposer and tenor of the Classical era, a close\\nfriend of Mozart and the first performer of the role\\nof Tamino in Mozart\\'s opera The Magic Flute.\\nBenedikt Schack (also spelled as Žák, Ziak, Cziak or\\nSchak) was born on 7 February 1758 in Mirotice,\\nBohemia (now the Czech Republic, then part of the\\nHabsburg monarchy). Like Joseph and Michael\\nHaydn, he worked as a chorister as a child, singing\\nfrom 1773 in the cathedral in Prague,[2] then moved\\nto Vienna (1775) to study medicine, philosophy and\\nsinging. His voice teacher in Vienna was Karl\\nFrieberth, a tenor who performed under Joseph\\nHaydn.[3] From 1780, Schack worked for several\\nyears as Kapellmeister to Prince Heinrich von\\nSchönaich-Carolath in Silesia.\\nIn 1786, Schack joined the traveling theatrical\\ntroupe of Emanuel Schikaneder, working both as a\\ntenor and as a composer of Singspiele. The troupe\\nsettled in Vienna in 1789, performing in the\\nsuburban Theater auf der Wieden.\\nIt was around this time that Schack became a friend and professional colleague of Mozart, who was\\ngradually increasing his involvement with Schikaneder\\'s troupe. Schack apparently asked his\\nfriend for advice and help in composing,[4] and the level of assistance evidently increased. The\\nfollowing anecdote was published in the Baierisches Musik-Lexikon by Felix Joseph von Lipowsky\\n(Munich, 1811):\\nMozart often came to Schack to fetch him for a stroll; while Schack dressed he would sit\\nat the writing desk and compose here and there a piece in Schack\\'s operas. Thus several\\npassages in Schack\\'s operas derive from Mozart\\'s own hand and genius.[5]\\nIn 1790, Schack and his fellow singer-composers of the Schikaneder troupe collaborated to write\\nan opera Der Stein der Weisen (\"The Philosopher\\'s Stone\"). Mozart also played a part in its\\ncomposition, contributing a duet (\"Nun liebes Weibchen,\" K. 625/592a)[6] and perhaps other\\nEarly life\\nFriendship and\\ncollaborations with Mozart\\n6/27/24, 6:32 PM\\nBenedikt Schack - Wikipedia\\nhttps://en.wikipedia.org/wiki/Benedikt_Schack\\n1/4'}"
      ]
     },
     "execution_count": 20,
     "metadata": {},
     "output_type": "execute_result"
    }
   ],
   "source": [
    "# %cd C:\\Users\\megah\\Dropbox\\UMMalaya\\SQB7027 STATISTICAL CONSULTANCY AND DATA ANALYSIS\\Lecture \n",
    "# !dir \n",
    "from tqdm import tqdm\n",
    "import pinecone\n",
    "from pinecone import Pinecone, ServerlessSpec, PodSpec\n",
    "import os\n",
    "import openai\n",
    "from langchain.text_splitter import RecursiveCharacterTextSplitter\n",
    "from langchain.document_loaders import PyMuPDFLoader\n",
    "from pprint import pprint\n",
    "##############################################################################################################################\n",
    "os.environ['OPENAI_API_KEY'] = \"XXX\"\n",
    "os.environ['OPENAI_BASE_URL'] = \"XXX\"\n",
    "\n",
    "os.environ['EMBEDDING_MODEL'] = \"text-embedding-3-large\t\"\n",
    "os.environ['PINECONE_API_KEY'] = 'XXX'\n",
    "os.environ['PINECONE_ENVIRONMENT'] = 'XXX'\n",
    "os.environ['PINECONE_QUERY_TOP_K'] = '15'\n",
    "\n",
    "##############################################################################################################################\n",
    "# pdf_path = r\"C:\\Users\\megah\\Dropbox\\Book\\Alexander Shuiskov - Microservices with Go-Packt Publising Pvt Ltd (2022).pdf\"\n",
    "\n",
    "folder_path = r\"XXXX\\PDFs\"\n",
    "pdf_paths = os.listdir(folder_path)\n",
    "pdf_paths = [os.path.join(folder_path, pdf_path) for pdf_path in pdf_paths]\n",
    "pdf_paths = [pdf_path for pdf_path in pdf_paths if pdf_path.endswith(\".pdf\")]\n",
    "print(f\"{len(pdf_paths)} PDFs found in the folder. File list:\")\n",
    "[print(f\"\\t - {os.path.basename(pdf_path)}\") for pdf_path in pdf_paths]\n",
    "print()\n",
    "\n",
    "main_all_splits_dics = []\n",
    "main_all_splits = []\n",
    "for pdf_path in pdf_paths:\n",
    "    loader = PyMuPDFLoader(pdf_path)\n",
    "    \n",
    "    PDF_data = loader.load()\n",
    "    # print(PDF_data)\n",
    "    text_splitter = RecursiveCharacterTextSplitter(\n",
    "        chunk_size=2000*4, chunk_overlap=2000*0.5*4)\n",
    "    all_splits = text_splitter.split_documents(PDF_data)\n",
    "    print(f\"No. of splits: {len(all_splits)} -> {os.path.basename(pdf_path)}\")\n",
    "\n",
    "    ##############################################################################################################################\n",
    "    all_splits = all_splits\n",
    "    all_splits = [all_splits_.dict() for all_splits_ in all_splits]\n",
    "    for i in range(0, len(all_splits)):\n",
    "        all_splits[i]['metadata']['page_content'] = all_splits[i]['page_content']\n",
    "        del all_splits[i]['page_content']\n",
    "    all_splits_dic = [all_splits_['metadata'] for all_splits_ in all_splits]\n",
    "    all_splits = [all_splits_['metadata']['page_content']\n",
    "                for all_splits_ in all_splits]\n",
    "    main_all_splits_dics.extend(all_splits_dic)\n",
    "    main_all_splits.extend(all_splits)\n",
    "\n",
    "    \n",
    "all_splits_dics = main_all_splits_dics\n",
    "all_splits = main_all_splits\n",
    "len(all_splits_dics), len(all_splits)\n",
    "\n",
    "print(\"\\n\\nChopped Example:\")\n",
    "all_splits_dics[0]"
   ]
  },
  {
   "cell_type": "markdown",
   "metadata": {},
   "source": [
    "### Step 2: Use Embeddings to convert the text into embeddings, then upload to Pinecone vectorDB"
   ]
  },
  {
   "cell_type": "code",
   "execution_count": 21,
   "metadata": {},
   "outputs": [
    {
     "name": "stdout",
     "output_type": "stream",
     "text": [
      "Generating Embeddings for 0 to 10\n",
      "Generating Embeddings for 10 to 20\n",
      "Generating Embeddings for 20 to 30\n",
      "Generating Embeddings for 30 to 40\n",
      "Generating Embeddings for 40 to 50\n",
      "Uploading index 0 to 9 to PineconeDB\n",
      "Uploading index 10 to 19 to PineconeDB\n",
      "Uploading index 20 to 29 to PineconeDB\n",
      "Uploading index 30 to 39 to PineconeDB\n",
      "Uploading index 40 to 49 to PineconeDB\n"
     ]
    }
   ],
   "source": [
    "cur_namespace='XXX'\n",
    "##############################################################################################################################\n",
    "embeddings = []\n",
    "for i in range(0, len(all_splits_dics), 10):\n",
    "    print(f\"Generating Embeddings for {i} to {i+10}\")\n",
    "    texts = all_splits[i:i+10]\n",
    "\n",
    "    client = openai.OpenAI()\n",
    "    response = client.embeddings.create(\n",
    "        input=texts,\n",
    "        model=\"text-embedding-ada-002\"\n",
    "    )\n",
    "    embeddings_ = [x_.embedding for x_ in response.data]\n",
    "    embeddings.extend(embeddings_)\n",
    "\n",
    "##############################################################################################################################\n",
    "use_serverless = os.environ.get(\"USE_SERVERLESS\", \"False\").lower() == \"true\"\n",
    "api_key = os.environ.get('PINECONE_API_KEY')\n",
    "environment = os.environ.get('PINECONE_ENVIRONMENT')\n",
    "\n",
    "if use_serverless:\n",
    "    cloud = os.environ.get('PINECONE_CLOUD')\n",
    "    spec = ServerlessSpec(cloud='aws', region='us-west-2')\n",
    "else:\n",
    "    spec = PodSpec(environment=environment)\n",
    "\n",
    "index_name = \"hello-pinecone\"\n",
    "pc = Pinecone(api_key=api_key)\n",
    "index = pc.Index(index_name)\n",
    "try:\n",
    "    index.delete(delete_all=True, namespace=cur_namespace)\n",
    "except Exception as e:\n",
    "    print(e)\n",
    "\n",
    "##############################################################################################################################\n",
    "ids = range(len(all_splits))\n",
    "ids = [str(x) for x in ids]\n",
    "\n",
    "for i in range(0, len(all_splits), 10):\n",
    "    print(f\"Uploading index {i} to {i+9} to PineconeDB\")\n",
    "    index.upsert(vectors=zip(ids[i:i+10], embeddings[i:i+10],\n",
    "                 all_splits_dics[i:i+10]), namespace=cur_namespace)"
   ]
  },
  {
   "cell_type": "markdown",
   "metadata": {},
   "source": [
    "### Step 3: Embed the Custom Questions and find the related chunks in the vectorDB"
   ]
  },
  {
   "cell_type": "code",
   "execution_count": 23,
   "metadata": {},
   "outputs": [
    {
     "name": "stdout",
     "output_type": "stream",
     "text": [
      "Match 1:\n",
      "\tScore: 0.38652575\n",
      "\tContent:Posthumous painting by Barbara Krafft in 1819 ( p p p death)[83] and the Little Masonic Cantata K. 623, premiered on 17 November 1791.[84] Mozart fell ill while in Prague for the premiere, on 6 Septem...\n",
      "\n",
      "Match 2:\n",
      "\tScore: 0.382590175\n",
      "\tContent:Mozart wearing the badge of the Order of the Golden Spur which he received in 1770 from Pope Clement XIV in Rome. The painting is a 1777 copy of a work now lost.[28] Mozart family, c. 1780 (della Croc...\n",
      "\n",
      "Match 3:\n",
      "\tScore: 0.381687284\n",
      "\tContent:Fortepiano played by Mozart in 1787, Czech Museum of Music, Prague[70] y , y p y g p p g q six quartets dedicated to Haydn (K. 387, K. 421, K. 428, K. 458, K. 464, and K. 465) date from the period 178...\n",
      "\n",
      "Match 4:\n",
      "\tScore: 0.381097078\n",
      "\tContent:w.worldcat.org/oclc/594813). Mozart's Letters, Mozart's Life: Selected Letters. Translated by Robert Spaethling. W.W. Norton. 2000. \"Mozart, Mozart's Magic Flute and Beethoven\" (https://web.archive.or...\n",
      "\n",
      "Match 5:\n",
      "\tScore: 0.378985524\n",
      "\tContent:Drawing of Mozart in silverpoint, made by Dora Stock during Mozart's visit to Dresden, April 1789 p p p g p prospects.[74][1] In 1787, the young Ludwig van Beethoven spent several weeks in Vienna, hop...\n",
      "\n",
      "Match 6:\n",
      "\tScore: 0.372824192\n",
      "\tContent:Tanzmeisterhaus, Salzburg, Mozart family residence from 1773; reconstructed 1996 7 9 77 j y , p wanted to display his son's abilities as a performer and a rapidly maturing composer. Wolfgang met Josef...\n",
      "\n"
     ]
    }
   ],
   "source": [
    "##############################################################################################################################\n",
    "\n",
    "query = '''\n",
    "Who are Mozart's best friend? \n",
    "How do they know each other and become friends?\n",
    "What song did they compose or play together?\n",
    "'''\n",
    "\n",
    "\n",
    "os.environ['OPENAI_API_KEY'] = \"XXX\"\n",
    "os.environ['OPENAI_BASE_URL'] = \"XXX\"\n",
    "\n",
    "client = openai.OpenAI()\n",
    "response = client.embeddings.create(\n",
    "    input=[query],\n",
    "    model=\"text-embedding-ada-002\"\n",
    ")\n",
    "\n",
    "embedded_query = response.data[0].embedding\n",
    "# Query namespace passed as parameter using title vector, get metadata\n",
    "query_result = index.query(vector=embedded_query,\n",
    "                           top_k=int(os.environ.get(\n",
    "                               'PINECONE_QUERY_TOP_K', 5)),\n",
    "                           namespace=cur_namespace,\n",
    "                           include_metadata=True\n",
    "                           )\n",
    "\n",
    "query_result['matches'] = [ x for x in query_result['matches'] if x['score'] >= 0.2]\n",
    "\n",
    "# sort by score for query_result['matches']\n",
    "query_result['matches'] = sorted(\n",
    "    query_result['matches'], key=lambda x: x['score'], reverse=True)\n",
    "\n",
    "\n",
    "\n",
    "query_result_content = [x['metadata']['page_content']\n",
    "                        for x in query_result['matches']]\n",
    "query_result_score = [x['score'] for x in query_result['matches']]\n",
    "\n",
    "for i in range(len(query_result_content)):\n",
    "    print(\"Match \" + str(i+1) + \":\")\n",
    "    print(f\"\\tScore: {query_result_score[i]}\")\n",
    "    print(f\"\\tContent:\" + query_result_content[i].replace('\\n', ' ').replace(\"  \", \"\")[0:200] + \"...\")\n",
    "    print()\n",
    "\n",
    "    if i >= 5:\n",
    "        break"
   ]
  },
  {
   "cell_type": "markdown",
   "metadata": {},
   "source": [
    "### Final Step: QA using LLM\n"
   ]
  },
  {
   "cell_type": "code",
   "execution_count": 24,
   "metadata": {},
   "outputs": [
    {
     "name": "stdout",
     "output_type": "stream",
     "text": [
      "Mozart's close friends included Gottfried von Jacquin, Count August Hatzfeld, and Sigmund Barisani. These friendships were likely formed through his social and professional circles, as all were connected to the arts or aristocracy, which were central to Mozart's life in Vienna.\n",
      "\n",
      "1. **Gottfried von Jacquin**: Son of the chemist Nikolaus von Jacquin, a professor whom Mozart met in Vienna. Their friendship was marked by a mutual appreciation of music and intellectual pursuits. Mozart composed several pieces for Jacquin, including the song \"Komm, liebe Zither, komm\" K. 351.\n",
      "\n",
      "2. **Count August Hatzfeld**: He was part of the Viennese aristocracy and known for his involvement in music. The specifics of their musical collaborations are not well-documented, but their friendship was likely facilitated by their mutual involvement in Vienna's musical scene.\n",
      "\n",
      "3. **Sigmund Barisani**: Details about their relationship are less documented, but as with many of Mozart's acquaintances, the connection was probably through musical and social interactions in Vienna.\n",
      "\n",
      "While there is no specific record of Mozart composing or performing music collaboratively with these friends as equals, it was common for him to dedicate works to his friends or perform at gatherings and concerts with them. His social circle was integral to his creative output, providing both inspiration and opportunities for performance.\n"
     ]
    }
   ],
   "source": [
    "os.environ['OPENAI_API_KEY'] = \"XXX\"\n",
    "os.environ['OPENAI_BASE_URL'] = \"XXX\"\n",
    "\n",
    "\n",
    "prompt = \"Context: \" + \"-------------\\n\".join(query_result_content) + \"\\n\\nQuestion: \" + query + \"\\nAnswer:\"\n",
    "client = openai.OpenAI()\n",
    "completion = client.chat.completions.create(\n",
    "  model=\"gpt-4-turbo\",\n",
    "  messages=[\n",
    "    {\"role\": \"system\", \"content\": \"You are a helpful assistant.\"},\n",
    "    {\"role\": \"user\", \"content\": prompt},\n",
    "  ]\n",
    ")\n",
    "\n",
    "\n",
    "# pretty print the response\n",
    "print(completion.choices[0].message.content)"
   ]
  },
  {
   "cell_type": "markdown",
   "metadata": {},
   "source": [
    "# What's Next?\n",
    "\n",
    "- Fine-tune Emebeddings model with domain specific knowledge\n",
    "- Use Open-Source model for local deployment\n",
    "  - General: Llama2\n",
    "  - language specific: \n",
    "    - Malay: Merak-7B-v2\n",
    "    - Chinese: Chinese-LLaMA-2-7B-hf\n",
    "    - Cantonese: cantonese-llama-2-7b-oasst-v1\n"
   ]
  }
 ],
 "metadata": {
  "kernelspec": {
   "display_name": "Python 3 (ipykernel)",
   "language": "python",
   "name": "python3"
  },
  "language_info": {
   "codemirror_mode": {
    "name": "ipython",
    "version": 3
   },
   "file_extension": ".py",
   "mimetype": "text/x-python",
   "name": "python",
   "nbconvert_exporter": "python",
   "pygments_lexer": "ipython3",
   "version": "3.8.10"
  }
 },
 "nbformat": 4,
 "nbformat_minor": 2
}
